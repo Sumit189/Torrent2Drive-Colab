{
  "nbformat": 4,
  "nbformat_minor": 0,
  "metadata": {
    "colab": {
      "name": "Torrent2Drive.ipynb",
      "provenance": [],
      "collapsed_sections": [],
      "include_colab_link": true
    },
    "kernelspec": {
      "name": "python3",
      "display_name": "Python 3"
    },
    "language_info": {
      "name": "python"
    }
  },
  "cells": [
    {
      "cell_type": "markdown",
      "metadata": {
        "id": "view-in-github",
        "colab_type": "text"
      },
      "source": [
        "<a href=\"https://colab.research.google.com/github/Sumit189/Torrent2Drive-Colab/blob/main/Torrent2Drive.ipynb\" target=\"_parent\"><img src=\"https://colab.research.google.com/assets/colab-badge.svg\" alt=\"Open In Colab\"/></a>"
      ]
    },
    {
      "cell_type": "code",
      "metadata": {
        "id": "kmCmLcVKxJGP"
      },
      "source": [
        "!pip install --upgrade pip setuptools wheel && python -m pip install lbry-libtorrent && apt install python3-libtorrent\n",
        "!pip install bencodepy"
      ],
      "execution_count": null,
      "outputs": []
    },
    {
      "cell_type": "code",
      "metadata": {
        "id": "ZqRT_mRB0zOg"
      },
      "source": [
        "import sys\n",
        "import bencodepy\n",
        "import hashlib\n",
        "import base64\n",
        "import libtorrent as lt\n",
        "import time\n",
        "import datetime\n",
        "from google.colab import files\n",
        "from IPython.display import clear_output"
      ],
      "execution_count": null,
      "outputs": []
    },
    {
      "cell_type": "code",
      "metadata": {
        "id": "CaNuZs7U0_WZ"
      },
      "source": [
        "def make_magnet_from_file(file) :\n",
        "    metadata = bencodepy.decode_from_file(file)\n",
        "    subj = metadata[b'info']\n",
        "    hashcontents = bencodepy.encode(subj)\n",
        "    digest = hashlib.sha1(hashcontents).digest()\n",
        "    b32hash = base64.b32encode(digest).decode()\n",
        "    return 'magnet:?'\\\n",
        "             + 'xt=urn:btih:' + b32hash\\\n",
        "             + '&dn=' + metadata[b'info'][b'name'].decode()\\\n",
        "             + '&tr=' + metadata[b'announce'].decode()\\\n",
        "             + '&xl=' + str(metadata[b'info'][b'piece length'])"
      ],
      "execution_count": null,
      "outputs": []
    },
    {
      "cell_type": "code",
      "metadata": {
        "id": "s4fH7dzt1c41"
      },
      "source": [
        "choice = int(input(\"Enter Choice:\\n1. Torrent File\\n2. Magnet Link\\n:\"))\n",
        "if choice == 1:\n",
        "  uploaded = files.upload()\n",
        "  filename = next(iter(uploaded))\n",
        "  magnet = make_magnet_from_file(filename)\n",
        "elif choice == 2:\n",
        "  magnet = input(\"Enter Magnet Link: \")\n",
        "else:\n",
        "  print(\"Invalid Input!!!\")"
      ],
      "execution_count": null,
      "outputs": []
    },
    {
      "cell_type": "code",
      "metadata": {
        "id": "OJf0mwROxP3p"
      },
      "source": [
        "ses = lt.session()\n",
        "ses.listen_on(6881, 6891)\n",
        "params = {\n",
        "    'save_path': '/content/drive/My Drive/Torrent/',\n",
        "    'storage_mode': lt.storage_mode_t(2),\n",
        "    }\n",
        "link = magnet\n",
        "print(link)\n",
        "\n",
        "handle = lt.add_magnet_uri(ses, link, params)\n",
        "ses.start_dht()\n",
        "\n",
        "begin = time.time()\n",
        "print(datetime.datetime.now())\n",
        "\n",
        "print ('Downloading Metadata...')\n",
        "while (not handle.has_metadata()):\n",
        "    time.sleep(1)\n",
        "print ('Got Metadata, Starting Torrent Download...')\n",
        "\n",
        "print(\"Starting\", handle.name())\n",
        "\n",
        "while (handle.status().state != lt.torrent_status.seeding):\n",
        "    clear_output()\n",
        "    s = handle.status()\n",
        "    state_str = ['queued', 'checking', 'downloading metadata', \\\n",
        "            'downloading', 'finished', 'seeding', 'allocating']\n",
        "    print ('%.2f%% complete (down: %.1f kb/s up: %.1f kB/s peers: %d) %s ' % \\\n",
        "            (s.progress * 100, s.download_rate / 1000, s.upload_rate / 1000, \\\n",
        "            s.num_peers, state_str[s.state]))\n",
        "    time.sleep(5)\n",
        "\n",
        "end = time.time()\n",
        "print(handle.name(), \"COMPLETE\")\n",
        "\n",
        "print(\"Elapsed Time: \",int((end-begin)//60),\"min :\", int((end-begin)%60), \"sec\")\n",
        "\n",
        "print(datetime.datetime.now())"
      ],
      "execution_count": null,
      "outputs": []
    }
  ]
}